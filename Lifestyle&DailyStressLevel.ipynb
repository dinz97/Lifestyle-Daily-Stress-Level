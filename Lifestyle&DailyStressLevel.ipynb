{
 "cells": [
  {
   "cell_type": "markdown",
   "id": "f63a0927",
   "metadata": {},
   "source": [
    "# Import Libraries"
   ]
  },
  {
   "cell_type": "code",
   "execution_count": 1,
   "id": "f851f17f",
   "metadata": {},
   "outputs": [],
   "source": [
    "import pandas as pd\n",
    "import numpy as np\n",
    "import scipy.stats as ss\n",
    "import matplotlib\n",
    "import matplotlib.pyplot as plt"
   ]
  },
  {
   "cell_type": "markdown",
   "id": "50a859d9",
   "metadata": {},
   "source": [
    "# Settings"
   ]
  },
  {
   "cell_type": "code",
   "execution_count": 2,
   "id": "8f1ca779",
   "metadata": {},
   "outputs": [
    {
     "data": {
      "text/html": [
       "<style>.container { width:100% !important; }</style>"
      ],
      "text/plain": [
       "<IPython.core.display.HTML object>"
      ]
     },
     "metadata": {},
     "output_type": "display_data"
    }
   ],
   "source": [
    "# To view all generated results\n",
    "pd.set_option('display.width', 1000)\n",
    "pd.set_option('display.max_rows', 500)\n",
    "pd.set_option('display.max_columns', 200)\n",
    "pd.set_option('display.max_colwidth', 500)\n",
    "plt.rcParams.update({'figure.max_open_warning': 0})\n",
    "\n",
    "# Ignore pandas chained assignment errors\n",
    "pd.options.mode.chained_assignment = None\n",
    "\n",
    "# Widen the Jupyter Notebook as much as possible\n",
    "from IPython.core.display import display, HTML\n",
    "display(HTML(\"<style>.container { width:100% !important; }</style>\"))"
   ]
  },
  {
   "cell_type": "markdown",
   "id": "af6f9adf",
   "metadata": {},
   "source": [
    "# Import Data"
   ]
  },
  {
   "cell_type": "code",
   "execution_count": 3,
   "id": "ebdafe4d",
   "metadata": {},
   "outputs": [
    {
     "data": {
      "text/html": [
       "<div>\n",
       "<style scoped>\n",
       "    .dataframe tbody tr th:only-of-type {\n",
       "        vertical-align: middle;\n",
       "    }\n",
       "\n",
       "    .dataframe tbody tr th {\n",
       "        vertical-align: top;\n",
       "    }\n",
       "\n",
       "    .dataframe thead th {\n",
       "        text-align: right;\n",
       "    }\n",
       "</style>\n",
       "<table border=\"1\" class=\"dataframe\">\n",
       "  <thead>\n",
       "    <tr style=\"text-align: right;\">\n",
       "      <th></th>\n",
       "      <th>Timestamp</th>\n",
       "      <th>FRUITS_VEGGIES</th>\n",
       "      <th>DAILY_STRESS</th>\n",
       "      <th>PLACES_VISITED</th>\n",
       "      <th>CORE_CIRCLE</th>\n",
       "      <th>SUPPORTING_OTHERS</th>\n",
       "      <th>SOCIAL_NETWORK</th>\n",
       "      <th>ACHIEVEMENT</th>\n",
       "      <th>DONATION</th>\n",
       "      <th>BMI_RANGE</th>\n",
       "      <th>TODO_COMPLETED</th>\n",
       "      <th>FLOW</th>\n",
       "      <th>DAILY_STEPS</th>\n",
       "      <th>LIVE_VISION</th>\n",
       "      <th>SLEEP_HOURS</th>\n",
       "      <th>LOST_VACATION</th>\n",
       "      <th>DAILY_SHOUTING</th>\n",
       "      <th>SUFFICIENT_INCOME</th>\n",
       "      <th>PERSONAL_AWARDS</th>\n",
       "      <th>TIME_FOR_PASSION</th>\n",
       "      <th>WEEKLY_MEDITATION</th>\n",
       "      <th>AGE</th>\n",
       "      <th>GENDER</th>\n",
       "      <th>WORK_LIFE_BALANCE_SCORE</th>\n",
       "    </tr>\n",
       "  </thead>\n",
       "  <tbody>\n",
       "    <tr>\n",
       "      <th>0</th>\n",
       "      <td>7/7/15</td>\n",
       "      <td>3</td>\n",
       "      <td>2</td>\n",
       "      <td>2</td>\n",
       "      <td>5</td>\n",
       "      <td>0</td>\n",
       "      <td>5</td>\n",
       "      <td>2</td>\n",
       "      <td>0</td>\n",
       "      <td>1</td>\n",
       "      <td>6</td>\n",
       "      <td>4</td>\n",
       "      <td>5</td>\n",
       "      <td>0</td>\n",
       "      <td>7</td>\n",
       "      <td>5</td>\n",
       "      <td>5</td>\n",
       "      <td>1</td>\n",
       "      <td>4</td>\n",
       "      <td>0</td>\n",
       "      <td>5</td>\n",
       "      <td>36 to 50</td>\n",
       "      <td>Female</td>\n",
       "      <td>609.5</td>\n",
       "    </tr>\n",
       "    <tr>\n",
       "      <th>1</th>\n",
       "      <td>7/7/15</td>\n",
       "      <td>2</td>\n",
       "      <td>3</td>\n",
       "      <td>4</td>\n",
       "      <td>3</td>\n",
       "      <td>8</td>\n",
       "      <td>10</td>\n",
       "      <td>5</td>\n",
       "      <td>2</td>\n",
       "      <td>2</td>\n",
       "      <td>5</td>\n",
       "      <td>2</td>\n",
       "      <td>5</td>\n",
       "      <td>5</td>\n",
       "      <td>8</td>\n",
       "      <td>2</td>\n",
       "      <td>2</td>\n",
       "      <td>2</td>\n",
       "      <td>3</td>\n",
       "      <td>2</td>\n",
       "      <td>6</td>\n",
       "      <td>36 to 50</td>\n",
       "      <td>Female</td>\n",
       "      <td>655.6</td>\n",
       "    </tr>\n",
       "    <tr>\n",
       "      <th>2</th>\n",
       "      <td>7/7/15</td>\n",
       "      <td>2</td>\n",
       "      <td>3</td>\n",
       "      <td>3</td>\n",
       "      <td>4</td>\n",
       "      <td>4</td>\n",
       "      <td>10</td>\n",
       "      <td>3</td>\n",
       "      <td>2</td>\n",
       "      <td>2</td>\n",
       "      <td>2</td>\n",
       "      <td>2</td>\n",
       "      <td>4</td>\n",
       "      <td>5</td>\n",
       "      <td>8</td>\n",
       "      <td>10</td>\n",
       "      <td>2</td>\n",
       "      <td>2</td>\n",
       "      <td>4</td>\n",
       "      <td>8</td>\n",
       "      <td>3</td>\n",
       "      <td>36 to 50</td>\n",
       "      <td>Female</td>\n",
       "      <td>631.6</td>\n",
       "    </tr>\n",
       "    <tr>\n",
       "      <th>3</th>\n",
       "      <td>7/7/15</td>\n",
       "      <td>3</td>\n",
       "      <td>3</td>\n",
       "      <td>10</td>\n",
       "      <td>3</td>\n",
       "      <td>10</td>\n",
       "      <td>7</td>\n",
       "      <td>2</td>\n",
       "      <td>5</td>\n",
       "      <td>2</td>\n",
       "      <td>3</td>\n",
       "      <td>5</td>\n",
       "      <td>5</td>\n",
       "      <td>0</td>\n",
       "      <td>5</td>\n",
       "      <td>7</td>\n",
       "      <td>5</td>\n",
       "      <td>1</td>\n",
       "      <td>5</td>\n",
       "      <td>2</td>\n",
       "      <td>0</td>\n",
       "      <td>51 or more</td>\n",
       "      <td>Female</td>\n",
       "      <td>622.7</td>\n",
       "    </tr>\n",
       "    <tr>\n",
       "      <th>4</th>\n",
       "      <td>7/7/15</td>\n",
       "      <td>5</td>\n",
       "      <td>1</td>\n",
       "      <td>3</td>\n",
       "      <td>3</td>\n",
       "      <td>10</td>\n",
       "      <td>4</td>\n",
       "      <td>2</td>\n",
       "      <td>4</td>\n",
       "      <td>2</td>\n",
       "      <td>5</td>\n",
       "      <td>0</td>\n",
       "      <td>5</td>\n",
       "      <td>0</td>\n",
       "      <td>7</td>\n",
       "      <td>0</td>\n",
       "      <td>0</td>\n",
       "      <td>2</td>\n",
       "      <td>8</td>\n",
       "      <td>1</td>\n",
       "      <td>5</td>\n",
       "      <td>51 or more</td>\n",
       "      <td>Female</td>\n",
       "      <td>663.9</td>\n",
       "    </tr>\n",
       "  </tbody>\n",
       "</table>\n",
       "</div>"
      ],
      "text/plain": [
       "  Timestamp  FRUITS_VEGGIES DAILY_STRESS  PLACES_VISITED  CORE_CIRCLE  SUPPORTING_OTHERS  SOCIAL_NETWORK  ACHIEVEMENT  DONATION  BMI_RANGE  TODO_COMPLETED  FLOW  DAILY_STEPS  LIVE_VISION  SLEEP_HOURS  LOST_VACATION  DAILY_SHOUTING  SUFFICIENT_INCOME  PERSONAL_AWARDS  TIME_FOR_PASSION  WEEKLY_MEDITATION         AGE  GENDER  WORK_LIFE_BALANCE_SCORE\n",
       "0    7/7/15               3            2               2            5                  0               5            2         0          1               6     4            5            0            7              5               5                  1                4                 0                  5    36 to 50  Female                    609.5\n",
       "1    7/7/15               2            3               4            3                  8              10            5         2          2               5     2            5            5            8              2               2                  2                3                 2                  6    36 to 50  Female                    655.6\n",
       "2    7/7/15               2            3               3            4                  4              10            3         2          2               2     2            4            5            8             10               2                  2                4                 8                  3    36 to 50  Female                    631.6\n",
       "3    7/7/15               3            3              10            3                 10               7            2         5          2               3     5            5            0            5              7               5                  1                5                 2                  0  51 or more  Female                    622.7\n",
       "4    7/7/15               5            1               3            3                 10               4            2         4          2               5     0            5            0            7              0               0                  2                8                 1                  5  51 or more  Female                    663.9"
      ]
     },
     "execution_count": 3,
     "metadata": {},
     "output_type": "execute_result"
    }
   ],
   "source": [
    "# Import data\n",
    "df = pd.read_csv('Wellbeing and Lifestyle\\Wellbeing_and_lifestyle_data_Kaggle.csv', index_col = None, header = 0 )\n",
    "df.head()"
   ]
  },
  {
   "cell_type": "code",
   "execution_count": 4,
   "id": "8ef7a86d",
   "metadata": {},
   "outputs": [
    {
     "name": "stdout",
     "output_type": "stream",
     "text": [
      "<class 'pandas.core.frame.DataFrame'>\n",
      "RangeIndex: 15972 entries, 0 to 15971\n",
      "Data columns (total 24 columns):\n",
      " #   Column                   Non-Null Count  Dtype  \n",
      "---  ------                   --------------  -----  \n",
      " 0   Timestamp                15972 non-null  object \n",
      " 1   FRUITS_VEGGIES           15972 non-null  int64  \n",
      " 2   DAILY_STRESS             15972 non-null  object \n",
      " 3   PLACES_VISITED           15972 non-null  int64  \n",
      " 4   CORE_CIRCLE              15972 non-null  int64  \n",
      " 5   SUPPORTING_OTHERS        15972 non-null  int64  \n",
      " 6   SOCIAL_NETWORK           15972 non-null  int64  \n",
      " 7   ACHIEVEMENT              15972 non-null  int64  \n",
      " 8   DONATION                 15972 non-null  int64  \n",
      " 9   BMI_RANGE                15972 non-null  int64  \n",
      " 10  TODO_COMPLETED           15972 non-null  int64  \n",
      " 11  FLOW                     15972 non-null  int64  \n",
      " 12  DAILY_STEPS              15972 non-null  int64  \n",
      " 13  LIVE_VISION              15972 non-null  int64  \n",
      " 14  SLEEP_HOURS              15972 non-null  int64  \n",
      " 15  LOST_VACATION            15972 non-null  int64  \n",
      " 16  DAILY_SHOUTING           15972 non-null  int64  \n",
      " 17  SUFFICIENT_INCOME        15972 non-null  int64  \n",
      " 18  PERSONAL_AWARDS          15972 non-null  int64  \n",
      " 19  TIME_FOR_PASSION         15972 non-null  int64  \n",
      " 20  WEEKLY_MEDITATION        15972 non-null  int64  \n",
      " 21  AGE                      15972 non-null  object \n",
      " 22  GENDER                   15972 non-null  object \n",
      " 23  WORK_LIFE_BALANCE_SCORE  15972 non-null  float64\n",
      "dtypes: float64(1), int64(19), object(4)\n",
      "memory usage: 2.9+ MB\n"
     ]
    }
   ],
   "source": [
    "# View data\n",
    "df.info()\n",
    "\n",
    "# Observation:\n",
    "# 1. No missing values\n",
    "# 2. DAILY_STRESS column has inaccurate data type, it should be int64\n",
    "# 3. To remove column 'Timestamp' as it is not material to the analysis"
   ]
  },
  {
   "cell_type": "markdown",
   "id": "3b3ddfc1",
   "metadata": {},
   "source": [
    "# Data Cleansing"
   ]
  },
  {
   "cell_type": "code",
   "execution_count": 5,
   "id": "aa33c7bc",
   "metadata": {},
   "outputs": [
    {
     "data": {
      "text/plain": [
       "482"
      ]
     },
     "execution_count": 5,
     "metadata": {},
     "output_type": "execute_result"
    }
   ],
   "source": [
    "# Check for duplicates across all columns\n",
    "len(df[df.duplicated()])\n",
    "\n",
    "# Duplicates here might be due to multiple submission by the same respondent"
   ]
  },
  {
   "cell_type": "code",
   "execution_count": 6,
   "id": "7b63402a",
   "metadata": {},
   "outputs": [
    {
     "data": {
      "text/plain": [
       "0"
      ]
     },
     "execution_count": 6,
     "metadata": {},
     "output_type": "execute_result"
    }
   ],
   "source": [
    "# Remove duplicates\n",
    "df.drop_duplicates(inplace=True)\n",
    "\n",
    "# Check for duplicates across all columns again\n",
    "len(df[df.duplicated()])"
   ]
  },
  {
   "cell_type": "code",
   "execution_count": 7,
   "id": "9decd265",
   "metadata": {},
   "outputs": [],
   "source": [
    "# Remove unuseful column\n",
    "df.drop(columns = 'Timestamp', axis = 1, inplace = True)"
   ]
  },
  {
   "cell_type": "code",
   "execution_count": 8,
   "id": "9cd7591c",
   "metadata": {},
   "outputs": [
    {
     "data": {
      "text/plain": [
       "3         4230\n",
       "2         3302\n",
       "4         2903\n",
       "1         2409\n",
       "5         1987\n",
       "0          658\n",
       "1/1/00       1\n",
       "Name: DAILY_STRESS, dtype: int64"
      ]
     },
     "execution_count": 8,
     "metadata": {},
     "output_type": "execute_result"
    }
   ],
   "source": [
    "# View values under column DAILY_STRESS\n",
    "df['DAILY_STRESS'].value_counts()\n",
    "\n",
    "# Observation:\n",
    "# - 1/1/00 is an inaccurate value"
   ]
  },
  {
   "cell_type": "code",
   "execution_count": 9,
   "id": "e5e67a01",
   "metadata": {},
   "outputs": [
    {
     "data": {
      "text/html": [
       "<div>\n",
       "<style scoped>\n",
       "    .dataframe tbody tr th:only-of-type {\n",
       "        vertical-align: middle;\n",
       "    }\n",
       "\n",
       "    .dataframe tbody tr th {\n",
       "        vertical-align: top;\n",
       "    }\n",
       "\n",
       "    .dataframe thead th {\n",
       "        text-align: right;\n",
       "    }\n",
       "</style>\n",
       "<table border=\"1\" class=\"dataframe\">\n",
       "  <thead>\n",
       "    <tr style=\"text-align: right;\">\n",
       "      <th></th>\n",
       "      <th>DAILY_STRESS</th>\n",
       "      <th>WORK_LIFE_BALANCE_SCORE</th>\n",
       "    </tr>\n",
       "  </thead>\n",
       "  <tbody>\n",
       "    <tr>\n",
       "      <th>10005</th>\n",
       "      <td>1/1/00</td>\n",
       "      <td>682.6</td>\n",
       "    </tr>\n",
       "  </tbody>\n",
       "</table>\n",
       "</div>"
      ],
      "text/plain": [
       "      DAILY_STRESS  WORK_LIFE_BALANCE_SCORE\n",
       "10005       1/1/00                    682.6"
      ]
     },
     "execution_count": 9,
     "metadata": {},
     "output_type": "execute_result"
    }
   ],
   "source": [
    "# Check for work life balance score for DAILY_STRESS == 1/1/00\n",
    "df[['DAILY_STRESS','WORK_LIFE_BALANCE_SCORE']][df['DAILY_STRESS']=='1/1/00']\n",
    "\n",
    "# Info:\n",
    "# - Work life balance scoring used for the survey:\n",
    "#  - Poor: Below 550\n",
    "#  - Good: 550 - 700\n",
    "#  - Excellent: Above 700\n",
    "\n",
    "# Action:\n",
    "# - Since this response's score is 682.6 which categorised as 'Good', the average value of DAILY_STRESS based on other response with 'Good' score will be assigned"
   ]
  },
  {
   "cell_type": "code",
   "execution_count": 10,
   "id": "02499470",
   "metadata": {},
   "outputs": [],
   "source": [
    "# Set dtype\n",
    "df['DAILY_STRESS'] = pd.to_numeric(df['DAILY_STRESS'], errors='coerce')\n",
    "\n",
    "# Assign average value\n",
    "df.loc[df['DAILY_STRESS'] == '1/1/00','DAILY_STRESS'] = round(df[['WORK_LIFE_BALANCE_SCORE']][(df['WORK_LIFE_BALANCE_SCORE'] >= 550) & (df['WORK_LIFE_BALANCE_SCORE'] < 700)].mean())"
   ]
  },
  {
   "cell_type": "markdown",
   "id": "69697e48",
   "metadata": {},
   "source": [
    "## Data Banding"
   ]
  },
  {
   "cell_type": "markdown",
   "id": "1b6ec068",
   "metadata": {},
   "source": [
    "### Banding on Response Scale"
   ]
  },
  {
   "cell_type": "code",
   "execution_count": 11,
   "id": "dac8d727",
   "metadata": {},
   "outputs": [
    {
     "data": {
      "text/plain": [
       "a. 0-2     3960\n",
       "b. 3-5     5047\n",
       "c. 6-8     2781\n",
       "d. 9-10    3702\n",
       "Name: PLACES_VISITED_BAND, dtype: int64"
      ]
     },
     "execution_count": 11,
     "metadata": {},
     "output_type": "execute_result"
    }
   ],
   "source": [
    "# To group values under columns with response choices ranging from 1 - 10\n",
    "def RESPONSE_SCR_BAND(x):\n",
    "    \n",
    "    '''\n",
    "    INPUT:\n",
    "    x - Values in selected columns\n",
    "    \n",
    "    OUTPUT:\n",
    "    Band for 'x' based on its value\n",
    "    '''\n",
    "    # Banding of the values\n",
    "    if (x >= 0) & (x < 3):\n",
    "        return ('a. 0-2')\n",
    "    elif (x >= 3) & (x < 6):\n",
    "        return ('b. 3-5')\n",
    "    elif (x >= 6) & (x < 9):\n",
    "        return ('c. 6-8')\n",
    "    elif (x >= 9) & (x <= 10):\n",
    "        return ('d. 9-10')\n",
    "    else:\n",
    "        return ('N')\n",
    "\n",
    "# List of columns to be band\n",
    "cols = ['PLACES_VISITED', 'CORE_CIRCLE', 'SUPPORTING_OTHERS', 'SOCIAL_NETWORK', 'ACHIEVEMENT','TODO_COMPLETED', 'FLOW', 'DAILY_STEPS', 'LIVE_VISION', 'SLEEP_HOURS', 'LOST_VACATION', 'DAILY_SHOUTING','PERSONAL_AWARDS', 'TIME_FOR_PASSION', \n",
    "        'WEEKLY_MEDITATION']\n",
    "\n",
    "for col in cols:\n",
    "    df[col + '_BAND'] = df[col].apply(RESPONSE_SCR_BAND)\n",
    "\n",
    "    \n",
    "# Sample check one of the columns\n",
    "df.PLACES_VISITED_BAND.value_counts().sort_index()"
   ]
  },
  {
   "cell_type": "code",
   "execution_count": 12,
   "id": "6023242c",
   "metadata": {
    "scrolled": true
   },
   "outputs": [
    {
     "data": {
      "text/html": [
       "<div>\n",
       "<style scoped>\n",
       "    .dataframe tbody tr th:only-of-type {\n",
       "        vertical-align: middle;\n",
       "    }\n",
       "\n",
       "    .dataframe tbody tr th {\n",
       "        vertical-align: top;\n",
       "    }\n",
       "\n",
       "    .dataframe thead th {\n",
       "        text-align: right;\n",
       "    }\n",
       "</style>\n",
       "<table border=\"1\" class=\"dataframe\">\n",
       "  <thead>\n",
       "    <tr style=\"text-align: right;\">\n",
       "      <th></th>\n",
       "      <th>FRUITS_VEGGIES</th>\n",
       "      <th>DAILY_STRESS</th>\n",
       "      <th>PLACES_VISITED</th>\n",
       "      <th>CORE_CIRCLE</th>\n",
       "      <th>SUPPORTING_OTHERS</th>\n",
       "      <th>SOCIAL_NETWORK</th>\n",
       "      <th>ACHIEVEMENT</th>\n",
       "      <th>DONATION</th>\n",
       "      <th>BMI_RANGE</th>\n",
       "      <th>TODO_COMPLETED</th>\n",
       "      <th>FLOW</th>\n",
       "      <th>DAILY_STEPS</th>\n",
       "      <th>LIVE_VISION</th>\n",
       "      <th>SLEEP_HOURS</th>\n",
       "      <th>LOST_VACATION</th>\n",
       "      <th>DAILY_SHOUTING</th>\n",
       "      <th>SUFFICIENT_INCOME</th>\n",
       "      <th>PERSONAL_AWARDS</th>\n",
       "      <th>TIME_FOR_PASSION</th>\n",
       "      <th>WEEKLY_MEDITATION</th>\n",
       "      <th>WORK_LIFE_BALANCE_SCORE</th>\n",
       "    </tr>\n",
       "  </thead>\n",
       "  <tbody>\n",
       "    <tr>\n",
       "      <th>count</th>\n",
       "      <td>15490.000000</td>\n",
       "      <td>15489.000000</td>\n",
       "      <td>15490.000000</td>\n",
       "      <td>15490.000000</td>\n",
       "      <td>15490.000000</td>\n",
       "      <td>15490.000000</td>\n",
       "      <td>15490.000000</td>\n",
       "      <td>15490.000000</td>\n",
       "      <td>15490.000000</td>\n",
       "      <td>15490.000000</td>\n",
       "      <td>15490.000000</td>\n",
       "      <td>15490.000000</td>\n",
       "      <td>15490.000000</td>\n",
       "      <td>15490.000000</td>\n",
       "      <td>15490.000000</td>\n",
       "      <td>15490.000000</td>\n",
       "      <td>15490.000000</td>\n",
       "      <td>15490.000000</td>\n",
       "      <td>15490.000000</td>\n",
       "      <td>15490.000000</td>\n",
       "      <td>15490.000000</td>\n",
       "    </tr>\n",
       "    <tr>\n",
       "      <th>mean</th>\n",
       "      <td>2.922466</td>\n",
       "      <td>2.792304</td>\n",
       "      <td>5.225823</td>\n",
       "      <td>5.513170</td>\n",
       "      <td>5.619496</td>\n",
       "      <td>6.489606</td>\n",
       "      <td>4.000194</td>\n",
       "      <td>2.716333</td>\n",
       "      <td>1.409038</td>\n",
       "      <td>5.749645</td>\n",
       "      <td>3.190252</td>\n",
       "      <td>5.715946</td>\n",
       "      <td>3.752163</td>\n",
       "      <td>7.038476</td>\n",
       "      <td>2.891995</td>\n",
       "      <td>2.923951</td>\n",
       "      <td>1.730536</td>\n",
       "      <td>5.710394</td>\n",
       "      <td>3.321304</td>\n",
       "      <td>6.222660</td>\n",
       "      <td>666.841233</td>\n",
       "    </tr>\n",
       "    <tr>\n",
       "      <th>std</th>\n",
       "      <td>1.443356</td>\n",
       "      <td>1.369373</td>\n",
       "      <td>3.315740</td>\n",
       "      <td>2.839156</td>\n",
       "      <td>3.244341</td>\n",
       "      <td>3.084922</td>\n",
       "      <td>2.760281</td>\n",
       "      <td>1.851438</td>\n",
       "      <td>0.491672</td>\n",
       "      <td>2.623108</td>\n",
       "      <td>2.355849</td>\n",
       "      <td>2.887100</td>\n",
       "      <td>3.225963</td>\n",
       "      <td>1.198948</td>\n",
       "      <td>3.686959</td>\n",
       "      <td>2.676001</td>\n",
       "      <td>0.443696</td>\n",
       "      <td>3.091236</td>\n",
       "      <td>2.728343</td>\n",
       "      <td>3.017574</td>\n",
       "      <td>45.001295</td>\n",
       "    </tr>\n",
       "    <tr>\n",
       "      <th>min</th>\n",
       "      <td>0.000000</td>\n",
       "      <td>0.000000</td>\n",
       "      <td>0.000000</td>\n",
       "      <td>0.000000</td>\n",
       "      <td>0.000000</td>\n",
       "      <td>0.000000</td>\n",
       "      <td>0.000000</td>\n",
       "      <td>0.000000</td>\n",
       "      <td>1.000000</td>\n",
       "      <td>0.000000</td>\n",
       "      <td>0.000000</td>\n",
       "      <td>1.000000</td>\n",
       "      <td>0.000000</td>\n",
       "      <td>1.000000</td>\n",
       "      <td>0.000000</td>\n",
       "      <td>0.000000</td>\n",
       "      <td>1.000000</td>\n",
       "      <td>0.000000</td>\n",
       "      <td>0.000000</td>\n",
       "      <td>0.000000</td>\n",
       "      <td>480.000000</td>\n",
       "    </tr>\n",
       "    <tr>\n",
       "      <th>25%</th>\n",
       "      <td>2.000000</td>\n",
       "      <td>2.000000</td>\n",
       "      <td>2.000000</td>\n",
       "      <td>3.000000</td>\n",
       "      <td>3.000000</td>\n",
       "      <td>4.000000</td>\n",
       "      <td>2.000000</td>\n",
       "      <td>1.000000</td>\n",
       "      <td>1.000000</td>\n",
       "      <td>4.000000</td>\n",
       "      <td>1.000000</td>\n",
       "      <td>3.000000</td>\n",
       "      <td>1.000000</td>\n",
       "      <td>6.000000</td>\n",
       "      <td>0.000000</td>\n",
       "      <td>1.000000</td>\n",
       "      <td>1.000000</td>\n",
       "      <td>3.000000</td>\n",
       "      <td>1.000000</td>\n",
       "      <td>4.000000</td>\n",
       "      <td>636.000000</td>\n",
       "    </tr>\n",
       "    <tr>\n",
       "      <th>50%</th>\n",
       "      <td>3.000000</td>\n",
       "      <td>3.000000</td>\n",
       "      <td>5.000000</td>\n",
       "      <td>5.000000</td>\n",
       "      <td>5.000000</td>\n",
       "      <td>6.000000</td>\n",
       "      <td>3.000000</td>\n",
       "      <td>3.000000</td>\n",
       "      <td>1.000000</td>\n",
       "      <td>6.000000</td>\n",
       "      <td>3.000000</td>\n",
       "      <td>6.000000</td>\n",
       "      <td>3.000000</td>\n",
       "      <td>7.000000</td>\n",
       "      <td>0.000000</td>\n",
       "      <td>2.000000</td>\n",
       "      <td>2.000000</td>\n",
       "      <td>5.000000</td>\n",
       "      <td>3.000000</td>\n",
       "      <td>6.000000</td>\n",
       "      <td>667.900000</td>\n",
       "    </tr>\n",
       "    <tr>\n",
       "      <th>75%</th>\n",
       "      <td>4.000000</td>\n",
       "      <td>4.000000</td>\n",
       "      <td>8.000000</td>\n",
       "      <td>8.000000</td>\n",
       "      <td>10.000000</td>\n",
       "      <td>10.000000</td>\n",
       "      <td>6.000000</td>\n",
       "      <td>5.000000</td>\n",
       "      <td>2.000000</td>\n",
       "      <td>8.000000</td>\n",
       "      <td>5.000000</td>\n",
       "      <td>8.000000</td>\n",
       "      <td>5.000000</td>\n",
       "      <td>8.000000</td>\n",
       "      <td>5.000000</td>\n",
       "      <td>4.000000</td>\n",
       "      <td>2.000000</td>\n",
       "      <td>9.000000</td>\n",
       "      <td>5.000000</td>\n",
       "      <td>10.000000</td>\n",
       "      <td>698.500000</td>\n",
       "    </tr>\n",
       "    <tr>\n",
       "      <th>max</th>\n",
       "      <td>5.000000</td>\n",
       "      <td>5.000000</td>\n",
       "      <td>10.000000</td>\n",
       "      <td>10.000000</td>\n",
       "      <td>10.000000</td>\n",
       "      <td>10.000000</td>\n",
       "      <td>10.000000</td>\n",
       "      <td>5.000000</td>\n",
       "      <td>2.000000</td>\n",
       "      <td>10.000000</td>\n",
       "      <td>10.000000</td>\n",
       "      <td>10.000000</td>\n",
       "      <td>10.000000</td>\n",
       "      <td>10.000000</td>\n",
       "      <td>10.000000</td>\n",
       "      <td>10.000000</td>\n",
       "      <td>2.000000</td>\n",
       "      <td>10.000000</td>\n",
       "      <td>10.000000</td>\n",
       "      <td>10.000000</td>\n",
       "      <td>820.200000</td>\n",
       "    </tr>\n",
       "  </tbody>\n",
       "</table>\n",
       "</div>"
      ],
      "text/plain": [
       "       FRUITS_VEGGIES  DAILY_STRESS  PLACES_VISITED   CORE_CIRCLE  SUPPORTING_OTHERS  SOCIAL_NETWORK   ACHIEVEMENT      DONATION     BMI_RANGE  TODO_COMPLETED          FLOW   DAILY_STEPS   LIVE_VISION   SLEEP_HOURS  LOST_VACATION  DAILY_SHOUTING  SUFFICIENT_INCOME  PERSONAL_AWARDS  TIME_FOR_PASSION  WEEKLY_MEDITATION  WORK_LIFE_BALANCE_SCORE\n",
       "count    15490.000000  15489.000000    15490.000000  15490.000000       15490.000000    15490.000000  15490.000000  15490.000000  15490.000000    15490.000000  15490.000000  15490.000000  15490.000000  15490.000000   15490.000000    15490.000000       15490.000000     15490.000000      15490.000000       15490.000000             15490.000000\n",
       "mean         2.922466      2.792304        5.225823      5.513170           5.619496        6.489606      4.000194      2.716333      1.409038        5.749645      3.190252      5.715946      3.752163      7.038476       2.891995        2.923951           1.730536         5.710394          3.321304           6.222660               666.841233\n",
       "std          1.443356      1.369373        3.315740      2.839156           3.244341        3.084922      2.760281      1.851438      0.491672        2.623108      2.355849      2.887100      3.225963      1.198948       3.686959        2.676001           0.443696         3.091236          2.728343           3.017574                45.001295\n",
       "min          0.000000      0.000000        0.000000      0.000000           0.000000        0.000000      0.000000      0.000000      1.000000        0.000000      0.000000      1.000000      0.000000      1.000000       0.000000        0.000000           1.000000         0.000000          0.000000           0.000000               480.000000\n",
       "25%          2.000000      2.000000        2.000000      3.000000           3.000000        4.000000      2.000000      1.000000      1.000000        4.000000      1.000000      3.000000      1.000000      6.000000       0.000000        1.000000           1.000000         3.000000          1.000000           4.000000               636.000000\n",
       "50%          3.000000      3.000000        5.000000      5.000000           5.000000        6.000000      3.000000      3.000000      1.000000        6.000000      3.000000      6.000000      3.000000      7.000000       0.000000        2.000000           2.000000         5.000000          3.000000           6.000000               667.900000\n",
       "75%          4.000000      4.000000        8.000000      8.000000          10.000000       10.000000      6.000000      5.000000      2.000000        8.000000      5.000000      8.000000      5.000000      8.000000       5.000000        4.000000           2.000000         9.000000          5.000000          10.000000               698.500000\n",
       "max          5.000000      5.000000       10.000000     10.000000          10.000000       10.000000     10.000000      5.000000      2.000000       10.000000     10.000000     10.000000     10.000000     10.000000      10.000000       10.000000           2.000000        10.000000         10.000000          10.000000               820.200000"
      ]
     },
     "execution_count": 12,
     "metadata": {},
     "output_type": "execute_result"
    }
   ],
   "source": [
    "# View numerical distribution\n",
    "df.describe()"
   ]
  },
  {
   "cell_type": "markdown",
   "id": "d26c94dc",
   "metadata": {},
   "source": [
    "# Data Exploration"
   ]
  },
  {
   "cell_type": "code",
   "execution_count": 13,
   "id": "cf6d0aae",
   "metadata": {},
   "outputs": [],
   "source": [
    "# Business Questions;\n",
    "# 1. Which age group is more stress?\n",
    "# 2. Reason for being stress\n",
    "# 3. What kind of lifestyle that people with lower stress level practice?\n",
    "# 4. Is there any correlation between stress and achivement?"
   ]
  },
  {
   "cell_type": "markdown",
   "id": "23fd05db",
   "metadata": {},
   "source": [
    "## Stress Level by Age Group"
   ]
  },
  {
   "cell_type": "code",
   "execution_count": 22,
   "id": "2cb09376",
   "metadata": {},
   "outputs": [
    {
     "data": {
      "image/png": "[encoded data removed]",
      "text/plain": [
       "<Figure size 720x576 with 1 Axes>"
      ]
     },
     "metadata": {
      "needs_background": "light"
     },
     "output_type": "display_data"
    }
   ],
   "source": [
    "# Explore stress level by age group\n",
    "def stress_level_by_age_group(df, col_stress, col_age):\n",
    "    \n",
    "    '''\n",
    "    INPUT:\n",
    "    df - main dataframe\n",
    "    col_stress - column that contains respondent's daily stress level\n",
    "    col_age - column that contains respondent's age\n",
    "\n",
    "    OUTPUT:\n",
    "    df_age_grp_stress_lvl - Daily Stress Level vs Age Group (%)\n",
    "    '''\n",
    "    # Custom sort column age\n",
    "    df[col_age] = pd.Categorical(df[col_age], ordered=True, categories=['Less than 20','21 to 35','36 to 50','51 or more'])\n",
    "\n",
    "    # Generate pivot table of Daily Stress Level vs Age Group\n",
    "    df_new = pd.pivot_table(df, values=[col_stress], index=[col_age], aggfunc=np.mean)\n",
    "    \n",
    "    # Plot bar graph\n",
    "    ax = df_new.plot(kind='bar', colormap='tab10', figsize=(10, 8))\n",
    "    ax.set_alpha(0.8)\n",
    "    ax.set_title(\"Average Daily Stress Level by Age Group\", fontsize=18)\n",
    "    ax.set_ylabel(\"Daily Stress Level\", fontsize=18);\n",
    "    plt.xticks(rotation=0)\n",
    "    \n",
    "    # set individual bar lables using above list\n",
    "    for i in ax.patches:\n",
    "        # get_x pulls left or right; get_height pushes up or down\n",
    "        ax.text(i.get_x()+0.15, i.get_height()+0.05, \\\n",
    "                str(round(i.get_height(), 2)), fontsize=12,\n",
    "                    color='black', fontweight=\"bold\")\n",
    "          \n",
    "    plt.show()\n",
    "\n",
    "\n",
    "\n",
    "stress_level_by_age_group(df, 'DAILY_STRESS', 'AGE')\n",
    "\n",
    "# Observation:\n",
    "# - Respondents aged 36 to 50 has the highest average daily stress level followed by age 21 to 35."
   ]
  },
  {
   "cell_type": "markdown",
   "id": "f54fbdce",
   "metadata": {},
   "source": [
    "## Lifestyle of Respondence with High Daily Stress Level"
   ]
  },
  {
   "cell_type": "code",
   "execution_count": 15,
   "id": "58f66da9",
   "metadata": {},
   "outputs": [
    {
     "data": {
      "text/plain": [
       "21.8"
      ]
     },
     "execution_count": 15,
     "metadata": {},
     "output_type": "execute_result"
    }
   ],
   "source": [
    "# Proportion of respondents aged 21 to 50 with daily stress level more than 4\n",
    "round(len(df[(df['AGE'].str.contains('21 to 35|36 to 50')) & (df['DAILY_STRESS']>=4)])/len(df)*100,1)"
   ]
  },
  {
   "cell_type": "code",
   "execution_count": 16,
   "id": "ebf93d68",
   "metadata": {},
   "outputs": [
    {
     "data": {
      "image/png": "[encoded data removed]",
      "text/plain": [
       "<Figure size 1440x720 with 1 Axes>"
      ]
     },
     "metadata": {
      "needs_background": "light"
     },
     "output_type": "display_data"
    }
   ],
   "source": [
    "# Explore mean values of each column to idenfity causes of stress\n",
    "\n",
    "def lifestyle_high_stress_lvl(df, col_stress, col_age):\n",
    "    '''\n",
    "    INPUT:\n",
    "    df - main dataframe\n",
    "    col_stress - column that contains respondent's daily stress level\n",
    "    col_age - column that contains respondent's age\n",
    "\n",
    "    OUTPUT:\n",
    "    df_age_grp_stress_lvl - Daily Stress Level vs Age Group (%)\n",
    "    '''\n",
    "    \n",
    "    # Create table of mean values of each column\n",
    "    reason = pd.DataFrame(round(df[(df['AGE'].str.contains('21 to 35|36 to 50'))&(df['DAILY_STRESS']>=4)].mean(),0))\n",
    "    reason.columns=['MEAN SCORE']\n",
    "    \n",
    "    # Remove unwanted columns\n",
    "    reason.drop(reason.index[[1,20]],inplace=True)\n",
    "    \n",
    "    # Plot bar graph\n",
    "    ax = reason.plot(kind='bar', colormap='tab10', figsize=(20, 10))\n",
    "    ax.set_alpha(0.8)\n",
    "    ax.set_title(\"Lifestyle of Respondence with High Daily Stress Level\", fontsize=18)\n",
    "    ax.set_ylabel(\"Average Score\", fontsize=18);\n",
    "    plt.xticks(rotation=30)\n",
    "    \n",
    "    # set individual bar lables using above list\n",
    "    for i in ax.patches:\n",
    "        # get_x pulls left or right; get_height pushes up or down\n",
    "        ax.text(i.get_x()+0.15, i.get_height()+0.05, str(round(i.get_height(), 2)), fontsize=12, color='black', fontweight=\"bold\")\n",
    "          \n",
    "    plt.show()\n",
    "\n",
    "\n",
    "\n",
    "lifestyle_high_stress_lvl(df, 'DAILY_STRESS', 'AGE')\n",
    "\n",
    "# Observation:\n",
    "# - Respondents aged 21 to 50 with high daily stress level lack of the following in their lifestyle:\n",
    "#   -  Consumption of fruits & vegetables\n",
    "#   -  Achievements\n",
    "#   -  Contribution to other people\n",
    "#   -  'Flow' - defined as the mental state in which a person is fully immersed in performing an activity then, experience a feeling of energized focus, full invovlvement and enjoyment in the process.\n",
    "#   -  Life vision\n",
    "#   -  Vacation\n",
    "#   -  Time spent for passion"
   ]
  },
  {
   "cell_type": "markdown",
   "id": "36ae9299",
   "metadata": {},
   "source": [
    "## Correlation Between Daily Stress Level & Achievement?"
   ]
  },
  {
   "cell_type": "code",
   "execution_count": 17,
   "id": "77765833",
   "metadata": {},
   "outputs": [
    {
     "data": {
      "text/html": [
       "<div>\n",
       "<style scoped>\n",
       "    .dataframe tbody tr th:only-of-type {\n",
       "        vertical-align: middle;\n",
       "    }\n",
       "\n",
       "    .dataframe tbody tr th {\n",
       "        vertical-align: top;\n",
       "    }\n",
       "\n",
       "    .dataframe thead th {\n",
       "        text-align: right;\n",
       "    }\n",
       "</style>\n",
       "<table border=\"1\" class=\"dataframe\">\n",
       "  <thead>\n",
       "    <tr style=\"text-align: right;\">\n",
       "      <th></th>\n",
       "      <th>DAILY_STRESS</th>\n",
       "      <th>ACHIEVEMENT</th>\n",
       "    </tr>\n",
       "  </thead>\n",
       "  <tbody>\n",
       "    <tr>\n",
       "      <th>DAILY_STRESS</th>\n",
       "      <td>1.00</td>\n",
       "      <td>0.11</td>\n",
       "    </tr>\n",
       "    <tr>\n",
       "      <th>ACHIEVEMENT</th>\n",
       "      <td>0.11</td>\n",
       "      <td>1.00</td>\n",
       "    </tr>\n",
       "  </tbody>\n",
       "</table>\n",
       "</div>"
      ],
      "text/plain": [
       "              DAILY_STRESS  ACHIEVEMENT\n",
       "DAILY_STRESS          1.00         0.11\n",
       "ACHIEVEMENT           0.11         1.00"
      ]
     },
     "execution_count": 17,
     "metadata": {},
     "output_type": "execute_result"
    }
   ],
   "source": [
    "# Correlation between categorical variables\n",
    "np.round(df[['DAILY_STRESS','ACHIEVEMENT']].corr(method='pearson').abs(), 2)\n",
    "\n",
    "# Observation:\n",
    "# - Weak positive correlation"
   ]
  }
 ],
 "metadata": {
  "kernelspec": {
   "display_name": "Python 3",
   "language": "python",
   "name": "python3"
  },
  "language_info": {
   "codemirror_mode": {
    "name": "ipython",
    "version": 3
   },
   "file_extension": ".py",
   "mimetype": "text/x-python",
   "name": "python",
   "nbconvert_exporter": "python",
   "pygments_lexer": "ipython3",
   "version": "3.8.8"
  }
 },
 "nbformat": 4,
 "nbformat_minor": 5
}
